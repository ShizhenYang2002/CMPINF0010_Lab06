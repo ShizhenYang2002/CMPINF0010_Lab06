{
 "cells": [
  {
   "cell_type": "code",
   "execution_count": 3,
   "metadata": {},
   "outputs": [
    {
     "name": "stdout",
     "output_type": "stream",
     "text": [
      "Your name is Tom and you are 21 years old.\n",
      "You can get a driver license and have long guns if your age is above 18\n",
      "You can buy alchol and have handguns if your age is above 21\n"
     ]
    }
   ],
   "source": [
    "name = input(\"What is your name?\")\n",
    "try:\n",
    "    age = int(input (\"How old are you?\"))\n",
    "except:\n",
    "    print(\"Please enter your age as an integer!\")\n",
    "print(\"Your name is \" + name + \" and you are \" + str(age) +  \" years old.\")\n",
    "if age >= 18: print(\"You can get a driver license and have long guns if your age is above 18\")\n",
    "if age >= 21: print(\"You can buy alchol and have handguns if your age is above 21\")"
   ]
  }
 ],
 "metadata": {
  "kernelspec": {
   "display_name": "Python 3",
   "language": "python",
   "name": "python3"
  },
  "language_info": {
   "codemirror_mode": {
    "name": "ipython",
    "version": 3
   },
   "file_extension": ".py",
   "mimetype": "text/x-python",
   "name": "python",
   "nbconvert_exporter": "python",
   "pygments_lexer": "ipython3",
   "version": "3.10.8"
  }
 },
 "nbformat": 4,
 "nbformat_minor": 4
}
